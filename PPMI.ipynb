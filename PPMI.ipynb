{
 "cells": [
  {
   "cell_type": "code",
   "execution_count": 1,
   "metadata": {
    "collapsed": true
   },
   "outputs": [],
   "source": [
    "import pandas as pd\n",
    "import numpy as np\n",
    "import sys\n",
    "import json\n",
    "import time\n",
    "from scipy.sparse import coo_matrix\n",
    "from sklearn.decomposition import TruncatedSVD"
   ]
  },
  {
   "cell_type": "code",
   "execution_count": 2,
   "metadata": {
    "collapsed": true
   },
   "outputs": [],
   "source": [
    "def read_singleton_dict(dictionary_dir):\n",
    "    dic, index, unigram = {}, 0, []\n",
    "    with open(dictionary_dir, 'r') as file:\n",
    "        lines = file.readlines()\n",
    "        for row in lines:\n",
    "            line = row.split('\\t')\n",
    "            dic[line[0].strip()] = [int(line[1].strip()), index]\n",
    "            unigram.append(index)\n",
    "            index += 1\n",
    "        return (dic, unigram)"
   ]
  },
  {
   "cell_type": "code",
   "execution_count": 3,
   "metadata": {},
   "outputs": [],
   "source": [
    "path_singlets = '2_Singleton_Frequency_Counts/singlets_concepts_perBin_1d.txt'\n",
    "singleton, unigram_table = read_singleton_dict(path_singlets)"
   ]
  },
  {
   "cell_type": "code",
   "execution_count": 4,
   "metadata": {
    "collapsed": true
   },
   "outputs": [],
   "source": [
    "def read_cofreq_dict(dictionary_dir):\n",
    "    dic = {}\n",
    "    with open(dictionary_dir, 'r') as file:\n",
    "        lines = file.readlines()\n",
    "        for row in lines:\n",
    "            line = row.split('\\t')\n",
    "            dic[(line[0].strip(), line[1].strip()) ] = int(line[2].strip())\n",
    "        return dic"
   ]
  },
  {
   "cell_type": "code",
   "execution_count": 5,
   "metadata": {
    "collapsed": true
   },
   "outputs": [],
   "source": [
    "path_cofreq = '1_Cofrequency_Counts/cofreqs_concepts_perBin_1d.txt'\n",
    "cofreq = read_cofreq_dict(path_cofreq)"
   ]
  },
  {
   "cell_type": "code",
   "execution_count": 6,
   "metadata": {
    "collapsed": true
   },
   "outputs": [],
   "source": [
    "vocab = list(singleton.keys())"
   ]
  },
  {
   "cell_type": "code",
   "execution_count": 7,
   "metadata": {},
   "outputs": [],
   "source": [
    "note_counts = int(7.334261*1.99*10**6)"
   ]
  },
  {
   "cell_type": "code",
   "execution_count": 8,
   "metadata": {
    "collapsed": true
   },
   "outputs": [],
   "source": [
    "def calc_SPPMI(word_context, k=1, SPPMI=True):\n",
    "    word, context = word_context[0], word_context[1]\n",
    "    word_counts, context_counts = singleton.get(word, [0])[0], singleton.get(context, [0])[0]\n",
    "    word_context_counts = cofreq.get(word_context, 0)\n",
    "    PMI = np.log((word_context_counts * note_counts)/(word_counts * context_counts))\n",
    "    SPMI = PMI - np.log(k)\n",
    "    SPPMI = max(SPMI, 0) if SPPMI else SPMI\n",
    "    return SPPMI"
   ]
  },
  {
   "cell_type": "code",
   "execution_count": 9,
   "metadata": {},
   "outputs": [],
   "source": [
    "def create_matrix(matrix, SPPMI=True):\n",
    "    for word_context in cofreq.keys():\n",
    "        SPPMI = calc_SPPMI(word_context, 1, SPPMI)\n",
    "        word_index, context_index = singleton.get(word_context[0])[1], singleton.get(word_context[1])[1]\n",
    "        matrix[word_index, context_index] = SPPMI"
   ]
  },
  {
   "cell_type": "code",
   "execution_count": 10,
   "metadata": {},
   "outputs": [],
   "source": [
    "cofreq_matrix = np.empty((len(vocab), len(vocab)))\n",
    "create_matrix(cofreq_matrix)"
   ]
  },
  {
   "cell_type": "code",
   "execution_count": 11,
   "metadata": {},
   "outputs": [],
   "source": [
    "neg_cofreq_matrix = np.empty((len(vocab), len(vocab)))\n",
    "create_matrix(neg_cofreq_matrix, False)"
   ]
  },
  {
   "cell_type": "markdown",
   "metadata": {},
   "source": [
    "### SVD Factorization"
   ]
  },
  {
   "cell_type": "code",
   "execution_count": 14,
   "metadata": {},
   "outputs": [],
   "source": [
    "word_vector_size, n_iter, random_state = 100, 7, 42\n",
    "svd = TruncatedSVD(n_components=word_vector_size, n_iter=n_iter, random_state=random_state)"
   ]
  },
  {
   "cell_type": "code",
   "execution_count": 15,
   "metadata": {
    "collapsed": true
   },
   "outputs": [],
   "source": [
    "X = coo_matrix(cofreq_matrix)\n",
    "X_transform = svd.fit_transform(X)"
   ]
  },
  {
   "cell_type": "code",
   "execution_count": 16,
   "metadata": {},
   "outputs": [
    {
     "name": "stdout",
     "output_type": "stream",
     "text": [
      "0.6825433862664219\n"
     ]
    }
   ],
   "source": [
    "# print(svd.explained_variance_ratio_) \n",
    "print(svd.explained_variance_ratio_.sum())"
   ]
  },
  {
   "cell_type": "code",
   "execution_count": 17,
   "metadata": {},
   "outputs": [],
   "source": [
    "def get_embedding_dir(ts):\n",
    "    base_dir = 'embeddings/'\n",
    "    config_dir = base_dir + str(ts) + '_config' + '.txt'\n",
    "    embedding_dir = base_dir + str(ts) + '_embedding' + '.txt'\n",
    "    \n",
    "    config = {'singlets_bin_category': path_singlets,\n",
    "              'cofreq_bin_category': path_cofreq,\n",
    "              'word_vector_size': word_vector_size,\n",
    "              'n_iter': n_iter,\n",
    "              'random_state': random_state,\n",
    "              'embedding_dir': embedding_dir}\n",
    "    \n",
    "    with open(config_dir, 'w') as f:\n",
    "        json.dump(config, f)\n",
    "    return embedding_dir\n",
    "\n",
    "def save_embedding(matrix, ts):\n",
    "    embedding_dir = get_embedding_dir(ts)\n",
    "    embedding_file = open(embedding_dir, \"w\")\n",
    "    dictionary_keys = list(singleton.keys())\n",
    "    line = str(len(dictionary_keys)) + ' ' + str(word_vector_size) + '\\n'\n",
    "    embedding_file.write(line)\n",
    "    \n",
    "    for i in dictionary_keys:\n",
    "        cui, cui_index = i, singleton[i][1]\n",
    "        weights = matrix[cui_index, :]\n",
    "        line = str(cui) + ' ' + ' '.join(map(str, weights)) + '\\n'\n",
    "        embedding_file.write(line)\n",
    "    embedding_file.close()\n",
    "    print('Embedding file saved at ' + embedding_dir)"
   ]
  },
  {
   "cell_type": "code",
   "execution_count": 20,
   "metadata": {},
   "outputs": [
    {
     "name": "stdout",
     "output_type": "stream",
     "text": [
      "Embedding file saved at embeddings/1525323781_embedding.txt\n"
     ]
    }
   ],
   "source": [
    "ts = int(time.time())\n",
    "save_embedding(X_transform, ts) # after "
   ]
  },
  {
   "cell_type": "markdown",
   "metadata": {},
   "source": [
    "### Evaluation"
   ]
  },
  {
   "cell_type": "code",
   "execution_count": null,
   "metadata": {
    "collapsed": true
   },
   "outputs": [],
   "source": [
    " \n",
    "\n"
   ]
  }
 ],
 "metadata": {
  "kernelspec": {
   "display_name": "Python 3",
   "language": "python",
   "name": "python3"
  },
  "language_info": {
   "codemirror_mode": {
    "name": "ipython",
    "version": 3
   },
   "file_extension": ".py",
   "mimetype": "text/x-python",
   "name": "python",
   "nbconvert_exporter": "python",
   "pygments_lexer": "ipython3",
   "version": "3.6.4"
  }
 },
 "nbformat": 4,
 "nbformat_minor": 2
}
